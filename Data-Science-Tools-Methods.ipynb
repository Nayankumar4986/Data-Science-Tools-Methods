{
 "cells": [
  {
   "cell_type": "markdown",
   "id": "0e703f0c",
   "metadata": {},
   "source": [
    "# Final Project: Data Science Tools and Methods"
   ]
  },
  {
   "cell_type": "markdown",
   "id": "8874a9d9",
   "metadata": {},
   "source": [
    "This notebook is created to demonstrate the basic elements of a data science project, including the tools, languages, and methods used in the field."
   ]
  },
  {
   "cell_type": "markdown",
   "id": "8340631d",
   "metadata": {},
   "source": [
    "Some of the popular languages that Data Scientists use are:\n",
    "1. Python\n",
    "2. R\n",
    "3. SQL\n",
    "4. C++\n",
    "5. Java etc..;\n",
    "\n"
   ]
  },
  {
   "cell_type": "markdown",
   "id": "595dd0f7",
   "metadata": {},
   "source": [
    "Some of the commonly used libraries used by Data Scientists include:\n",
    "1. Tensorflow.\n",
    "2. NumPy.\n",
    "3. SciPy.\n",
    "4. Pandas.\n",
    "5. Matplotlib.\n",
    "6. Keras.\n",
    "7. Scikit-Learn.\n",
    "8. PyTorch. etc..;\n",
    "\n",
    "\n"
   ]
  },
  {
   "cell_type": "markdown",
   "id": "83752169",
   "metadata": {},
   "source": [
    "## Data Science Tools\n",
    "| Tool Name       | Description                                      |\n",
    "|-----------------|--------------------------------------------------|\n",
    "| Jupyter         | Interactive computing environment                |\n",
    "| RStudio         | Integrated development environment for R         |\n",
    "| SAS             | Statistical software suite for data analysis     |\n",
    "| Apache Hadoop   | Framework for distributed storage and processing |\n",
    "| TensorFlow      | Open-source library for machine learning         |\n"
   ]
  },
  {
   "cell_type": "markdown",
   "id": "54ccf609",
   "metadata": {},
   "source": [
    "### Below are a few examples of evaluating arithmetic expressions in Python"
   ]
  },
  {
   "cell_type": "code",
   "execution_count": 2,
   "id": "9e0c831e",
   "metadata": {},
   "outputs": [
    {
     "data": {
      "text/plain": [
       "31"
      ]
     },
     "execution_count": 2,
     "metadata": {},
     "output_type": "execute_result"
    }
   ],
   "source": [
    "#  This a simple arithmetic expression to mutiply then add integers\n",
    "(6*2)+19"
   ]
  },
  {
   "cell_type": "code",
   "execution_count": 4,
   "id": "7c371ee8",
   "metadata": {},
   "outputs": [
    {
     "data": {
      "text/plain": [
       "2.5"
      ]
     },
     "execution_count": 4,
     "metadata": {},
     "output_type": "execute_result"
    }
   ],
   "source": [
    "# Convert minutes to hours\n",
    "minutes = 150\n",
    "hours = minutes / 60\n",
    "hours\n"
   ]
  },
  {
   "cell_type": "markdown",
   "id": "f315f203",
   "metadata": {},
   "source": [
    "__Objectives__\n",
    "* List popular languages for Data Science\n",
    "* List popular libraries for Data Science\n",
    "* List of well known Data Science Tools\n",
    "* How to provide comments in the cell\n",
    "* Familiarize with markdown syntax for documentation.\n",
    "* Practice writing and executing Python code.\n"
   ]
  },
  {
   "cell_type": "markdown",
   "id": "28f91c26",
   "metadata": {},
   "source": [
    "## Author\n",
    "Nayan Kumar"
   ]
  },
  {
   "cell_type": "code",
   "execution_count": null,
   "id": "411e2c20",
   "metadata": {},
   "outputs": [],
   "source": []
  },
  {
   "cell_type": "code",
   "execution_count": null,
   "id": "00415709",
   "metadata": {},
   "outputs": [],
   "source": []
  }
 ],
 "metadata": {
  "kernelspec": {
   "display_name": "Python 3 (ipykernel)",
   "language": "python",
   "name": "python3"
  },
  "language_info": {
   "codemirror_mode": {
    "name": "ipython",
    "version": 3
   },
   "file_extension": ".py",
   "mimetype": "text/x-python",
   "name": "python",
   "nbconvert_exporter": "python",
   "pygments_lexer": "ipython3",
   "version": "3.12.0"
  }
 },
 "nbformat": 4,
 "nbformat_minor": 5
}
